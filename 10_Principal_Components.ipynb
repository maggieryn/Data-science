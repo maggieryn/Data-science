{
 "cells": [
  {
   "cell_type": "code",
   "execution_count": 1,
   "metadata": {},
   "outputs": [
    {
     "name": "stderr",
     "output_type": "stream",
     "text": [
      "<>:4: SyntaxWarning: invalid escape sequence '\\B'\n",
      "<>:4: SyntaxWarning: invalid escape sequence '\\B'\n",
      "C:\\Users\\ma2591\\AppData\\Local\\Temp\\ipykernel_12660\\1341828160.py:4: SyntaxWarning: invalid escape sequence '\\B'\n",
      "  data = pd.read_csv(\"M:\\BIO\\80_DATASCIENCE\\DATA\\IEM\\IEM_Molis_2025_01_23_imputed_by_mean.csv\")\n"
     ]
    },
    {
     "name": "stdout",
     "output_type": "stream",
     "text": [
      "   ROW_SUMMARY  NUMERO_BON      IPP  NUMERO_SEJOUR     DATE_PRELEVEMENT  \\\n",
      "0    79.220779  8104197473   3979.0    324129749.0  2024-11-05 00:00:00   \n",
      "1    78.896104  8103183349   3979.0    721194796.0  2023-05-12 11:59:00   \n",
      "2    78.896104  8103505493   3979.0    721194796.0  2023-11-09 10:29:00   \n",
      "3    36.038961  8113882464   3979.0    721194796.0  2024-05-15 10:12:00   \n",
      "4    78.896104  2050071245  15875.0    723163963.0  2023-09-04 08:00:00   \n",
      "\n",
      "      AA1MH     AA3MH    AA5ALA     AAAAD      AAABU  ...  UOURI  UOVALGLY  \\\n",
      "0  4.191186  3.271037  0.025129  2.341306  24.325375  ...    0.0       0.0   \n",
      "1  4.191186  3.271037  0.025129  2.341306  24.325375  ...    0.0       0.0   \n",
      "2  4.191186  3.271037  0.025129  2.341306  24.325375  ...    0.0       0.0   \n",
      "3  4.191186  3.271037  0.025129  2.341306  24.325375  ...    0.0       0.0   \n",
      "4  4.191186  3.271037  0.025129  2.341306  24.325375  ...    0.0       0.0   \n",
      "\n",
      "    UOVANIL  UOVANMAN  UOVANPYR  DATE_NAISSANCE  SEXE_CODE  \\\n",
      "0  2.654391   3.11083       0.0      27.09.1975          M   \n",
      "1  2.654391   3.11083       0.0      27.09.1975          M   \n",
      "2  2.654391   3.11083       0.0      27.09.1975          M   \n",
      "3  2.654391   1.00000       0.0      27.09.1975          M   \n",
      "4  2.654391   3.11083       0.0      16.04.1937          M   \n",
      "\n",
      "                 UNITE   LIB_STATUT_CLASSIFICATION  \\\n",
      "0                  NaN  Aucun critère de normalité   \n",
      "1               µmol/L                      Normal   \n",
      "2               µmol/L                      Normal   \n",
      "3  mmol/mol creatinine  Aucun critère de normalité   \n",
      "4               µmol/L                      Normal   \n",
      "\n",
      "                    NOM_DEMANDEUR  \n",
      "0  CHT/BH15/SOINS ORDINAIRES-15S2  \n",
      "1      CONSULT MAL RARES ET METAB  \n",
      "2      CONSULT MAL RARES ET METAB  \n",
      "3      CONSULT MAL RARES ET METAB  \n",
      "4        CAR/CARDIOLOGIE CONSULT.  \n",
      "\n",
      "[5 rows x 309 columns]\n"
     ]
    }
   ],
   "source": [
    "import pandas as pd\n",
    "\n",
    "# Read the CSV file into a DataFrame\n",
    "data = pd.read_csv(\"M:\\BIO\\80_DATASCIENCE\\DATA\\IEM\\IEM_Molis_2025_01_23_imputed_by_mean.csv\")\n",
    "\n",
    "# Display the first few rows of the DataFrame\n",
    "print(data.head())\n"
   ]
  },
  {
   "cell_type": "markdown",
   "metadata": {},
   "source": [
    "# PCA"
   ]
  },
  {
   "cell_type": "markdown",
   "metadata": {},
   "source": [
    "Standardize data"
   ]
  },
  {
   "cell_type": "code",
   "execution_count": 2,
   "metadata": {},
   "outputs": [
    {
     "name": "stderr",
     "output_type": "stream",
     "text": [
      "c:\\ProgramData\\anaconda3\\envs\\dataprocessing\\Lib\\site-packages\\sklearn\\utils\\extmath.py:1101: RuntimeWarning: invalid value encountered in divide\n",
      "  updated_mean = (last_sum + new_sum) / updated_sample_count\n",
      "c:\\ProgramData\\anaconda3\\envs\\dataprocessing\\Lib\\site-packages\\sklearn\\utils\\extmath.py:1106: RuntimeWarning: invalid value encountered in divide\n",
      "  T = new_sum / new_sample_count\n",
      "c:\\ProgramData\\anaconda3\\envs\\dataprocessing\\Lib\\site-packages\\sklearn\\utils\\extmath.py:1126: RuntimeWarning: invalid value encountered in divide\n",
      "  new_unnormalized_variance -= correction**2 / new_sample_count\n"
     ]
    }
   ],
   "source": [
    "from sklearn.preprocessing import StandardScaler\n",
    "from sklearn.decomposition import PCA\n",
    "from datetime import datetime\n",
    "\n",
    "df=data.copy()\n",
    "\n",
    "\n",
    "# Drop the 'DATE_PRELEVEMENT' column\n",
    "df = df.drop(columns=['DATE_PRELEVEMENT'])\n",
    "\n",
    "# Convert the 'DATE_NAISSANCE' column to datetime (if it's not already)\n",
    "df['DATE_NAISSANCE'] = pd.to_datetime(df['DATE_NAISSANCE'], format='%d.%m.%Y')\n",
    "\n",
    "# Create a new 'AGE' column based on the date of birth (DATE_NAISSANCE) and today's date\n",
    "today = datetime.today()\n",
    "df['AGE'] = df['DATE_NAISSANCE'].apply(lambda x: today.year - x.year - ((today.month, today.day) < (x.month, x.day)))\n",
    "\n",
    "# Drop the 'DATE_NAISSANCE' column now that we have the age\n",
    "df = df.drop(columns=['DATE_NAISSANCE'])\n",
    "\n",
    "if 'GENDER' in df.columns:\n",
    "    df['GENDER'] = df['GENDER'].map({'M': 1, 'F': 0})  # Encoding 'M' as 1 and 'F' as 0\n",
    "\n",
    "# Drop any other non-numeric columns if you don't want to encode them\n",
    "df = df.select_dtypes(include=['float64', 'int64'])  # Keep only numeric columns\n",
    "\n",
    "# Standardize the data\n",
    "scaler = StandardScaler()\n",
    "standardized_data = scaler.fit_transform(df)"
   ]
  },
  {
   "cell_type": "markdown",
   "metadata": {},
   "source": [
    "Reduce to 10 dimensions"
   ]
  },
  {
   "cell_type": "code",
   "execution_count": 4,
   "metadata": {},
   "outputs": [
    {
     "name": "stdout",
     "output_type": "stream",
     "text": [
      "           PC1        PC2       PC3       PC4        PC5       PC6       PC7  \\\n",
      "0    -0.036206   1.511944 -0.405377 -0.124901   3.835172  0.300848  1.790405   \n",
      "1    -0.049520   7.852440  1.739534  3.121112  10.402487  3.057876  3.182912   \n",
      "2     0.099053  11.751375  3.480701  5.712391  11.600669  3.705491  3.808657   \n",
      "3    -1.545828   1.920011 -2.316577  1.759382   5.807283 -0.628739  2.925766   \n",
      "4    -0.213894  -0.648364 -0.532461 -0.534373   0.162583 -0.167065 -0.209486   \n",
      "...        ...        ...       ...       ...        ...       ...       ...   \n",
      "3636 -0.693451  -1.388843  0.525217  0.791163   0.060613 -0.131344  0.598510   \n",
      "3637 -0.574440  -1.451705  0.825782  0.733929   0.092832  0.053575  0.449769   \n",
      "3638  0.144349   1.533345 -0.391248  1.471102  -1.051192  0.609056 -0.357949   \n",
      "3639 -0.487039  -1.311337  1.460279  1.686430  -1.433523  0.838259 -0.310706   \n",
      "3640  0.550182  -0.115719  0.108065  0.313714   0.251676 -0.102620 -0.197576   \n",
      "\n",
      "           PC8       PC9      PC10  \n",
      "0    -0.756535  0.815268 -2.661855  \n",
      "1    -0.446497 -1.933087 -6.186843  \n",
      "2    -0.833450 -4.077112 -7.181784  \n",
      "3    -0.655707 -1.279957 -2.388832  \n",
      "4     0.845342 -0.538839  0.168948  \n",
      "...        ...       ...       ...  \n",
      "3636  0.479149 -0.137419 -0.437016  \n",
      "3637  0.434714 -0.105155 -0.580166  \n",
      "3638  1.597720  1.705370 -0.421758  \n",
      "3639  0.089505 -0.657779  0.344066  \n",
      "3640  0.086770  0.437851  0.315793  \n",
      "\n",
      "[3641 rows x 10 columns]\n"
     ]
    }
   ],
   "source": [
    "from sklearn.decomposition import PCA\n",
    "from sklearn.cluster import KMeans\n",
    "from sklearn.preprocessing import StandardScaler\n",
    "\n",
    "\n",
    "# Convert the NumPy array back to a DataFrame\n",
    "df_standardized = pd.DataFrame(standardized_data)\n",
    "\n",
    "# Drop columns with missing values\n",
    "df_standardized_clean = df_standardized.dropna(axis=1)\n",
    "\n",
    "pca = PCA(n_components=10)  # Reduce to 10 dimensions\n",
    "data_pca = pca.fit_transform(df_standardized_clean)\n",
    "\n",
    "# Convert the result to a DataFrame\n",
    "pca_df = pd.DataFrame(data_pca, columns=[f'PC{i+1}' for i in range(data_pca.shape[1])])\n",
    "\n",
    "# Show the PCA result\n",
    "print(pca_df)\n"
   ]
  },
  {
   "cell_type": "markdown",
   "metadata": {},
   "source": [
    "Add back the date of birth, sex, numéro de bon, IPP, date prélèvement"
   ]
  },
  {
   "cell_type": "code",
   "execution_count": 5,
   "metadata": {},
   "outputs": [
    {
     "name": "stdout",
     "output_type": "stream",
     "text": [
      "           PC1        PC2       PC3       PC4        PC5       PC6       PC7  \\\n",
      "0    -0.036206   1.511944 -0.405377 -0.124901   3.835172  0.300848  1.790405   \n",
      "1    -0.049520   7.852440  1.739534  3.121112  10.402487  3.057876  3.182912   \n",
      "2     0.099053  11.751375  3.480701  5.712391  11.600669  3.705491  3.808657   \n",
      "3    -1.545828   1.920011 -2.316577  1.759382   5.807283 -0.628739  2.925766   \n",
      "4    -0.213894  -0.648364 -0.532461 -0.534373   0.162583 -0.167065 -0.209486   \n",
      "...        ...        ...       ...       ...        ...       ...       ...   \n",
      "3636 -0.693451  -1.388843  0.525217  0.791163   0.060613 -0.131344  0.598510   \n",
      "3637 -0.574440  -1.451705  0.825782  0.733929   0.092832  0.053575  0.449769   \n",
      "3638  0.144349   1.533345 -0.391248  1.471102  -1.051192  0.609056 -0.357949   \n",
      "3639 -0.487039  -1.311337  1.460279  1.686430  -1.433523  0.838259 -0.310706   \n",
      "3640  0.550182  -0.115719  0.108065  0.313714   0.251676 -0.102620 -0.197576   \n",
      "\n",
      "           PC8       PC9      PC10        IPP  NUMERO_BON DATE_NAISSANCE  \\\n",
      "0    -0.756535  0.815268 -2.661855     3979.0  8104197473     27.09.1975   \n",
      "1    -0.446497 -1.933087 -6.186843     3979.0  8103183349     27.09.1975   \n",
      "2    -0.833450 -4.077112 -7.181784     3979.0  8103505493     27.09.1975   \n",
      "3    -0.655707 -1.279957 -2.388832     3979.0  8113882464     27.09.1975   \n",
      "4     0.845342 -0.538839  0.168948    15875.0  2050071245     16.04.1937   \n",
      "...        ...       ...       ...        ...         ...            ...   \n",
      "3636  0.479149 -0.137419 -0.437016  3643479.0  2058146846     14.07.1973   \n",
      "3637  0.434714 -0.105155 -0.580166  3643482.0  2058146853     17.06.1973   \n",
      "3638  1.597720  1.705370 -0.421758  3643871.0  2058147416     18.12.1952   \n",
      "3639  0.089505 -0.657779  0.344066  3644074.0  2058050563     26.10.2023   \n",
      "3640  0.086770  0.437851  0.315793  3644439.0  2057643827     01.02.1970   \n",
      "\n",
      "     SEXE_CODE     DATE_PRELEVEMENT  NUMERO_SEJOUR  \n",
      "0            M  2024-11-05 00:00:00    324129749.0  \n",
      "1            M  2023-05-12 11:59:00    721194796.0  \n",
      "2            M  2023-11-09 10:29:00    721194796.0  \n",
      "3            M  2024-05-15 10:12:00    721194796.0  \n",
      "4            M  2023-09-04 08:00:00    723163963.0  \n",
      "...        ...                  ...            ...  \n",
      "3636         F  2024-11-19 00:00:00    724195754.0  \n",
      "3637         F  2024-11-18 00:00:00    724195763.0  \n",
      "3638         M  2024-11-22 09:30:00    724197168.0  \n",
      "3639         M  2024-11-22 14:30:00    724197802.0  \n",
      "3640         M  2024-11-25 11:45:00    724199057.0  \n",
      "\n",
      "[3641 rows x 16 columns]\n"
     ]
    }
   ],
   "source": [
    "# Ensure the columns exist in df_imputed_mean\n",
    "columns_to_add = ['IPP', 'NUMERO_BON', 'DATE_NAISSANCE', 'SEXE_CODE', 'DATE_PRELEVEMENT', 'NUMERO_SEJOUR']\n",
    "\n",
    "# Align the indices by using df.index, ensuring no mismatch\n",
    "additional_columns = data.loc[df.index, columns_to_add]\n",
    "\n",
    "# Concatenate the additional columns to the PCA result DataFrame\n",
    "pca_df_with_additional = pd.concat([pca_df, additional_columns], axis=1)\n",
    "\n",
    "# Show the resulting DataFrame\n",
    "print(pca_df_with_additional)\n"
   ]
  }
 ],
 "metadata": {
  "kernelspec": {
   "display_name": "dataprocessing",
   "language": "python",
   "name": "python3"
  },
  "language_info": {
   "codemirror_mode": {
    "name": "ipython",
    "version": 3
   },
   "file_extension": ".py",
   "mimetype": "text/x-python",
   "name": "python",
   "nbconvert_exporter": "python",
   "pygments_lexer": "ipython3",
   "version": "3.12.8"
  }
 },
 "nbformat": 4,
 "nbformat_minor": 2
}
